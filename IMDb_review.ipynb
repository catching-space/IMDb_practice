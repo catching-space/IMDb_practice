{
 "cells": [
  {
   "cell_type": "markdown",
   "metadata": {},
   "source": [
    "Sourced by: http://ai.stanford.edu/~amaas/data/sentiment/"
   ]
  },
  {
   "cell_type": "markdown",
   "metadata": {},
   "source": [
    "## Make dataframe"
   ]
  },
  {
   "cell_type": "code",
   "execution_count": null,
   "metadata": {},
   "outputs": [],
   "source": [
    "import pyprind\n",
    "import os\n",
    "import warnings\n",
    "warnings.filterwarnings(\"ignore\")"
   ]
  },
  {
   "cell_type": "code",
   "execution_count": null,
   "metadata": {},
   "outputs": [],
   "source": [
    "basepath = \"aclImdb\""
   ]
  },
  {
   "cell_type": "code",
   "execution_count": null,
   "metadata": {},
   "outputs": [],
   "source": [
    "labels = {\"pos\": 1, \"neg\": 0}\n",
    "pbar = pyprind.ProgBar(50000)"
   ]
  },
  {
   "cell_type": "code",
   "execution_count": null,
   "metadata": {},
   "outputs": [],
   "source": [
    "df = pd.DataFrame()\n",
    "for s in ('test', 'train'):\n",
    "    for l in ('pos', 'neg'):\n",
    "        path = os.path.join(basepath, s, l)\n",
    "        for file in sorted(os.listdir(path)):\n",
    "            with open(os.path.join(path, file),\n",
    "                     'r', encoding='utf-8') as infile:\n",
    "                txt = infile.read()\n",
    "            df = df.append([[txt, labels[l]]],\n",
    "                          ignore_index=True)\n",
    "            pbar.update()\n",
    "            \n",
    "df.columns = ['review', 'sentiment']"
   ]
  },
  {
   "cell_type": "code",
   "execution_count": null,
   "metadata": {},
   "outputs": [],
   "source": [
    "np.random.seed(0)\n",
    "df = df.reindex(np.random.permutation(df.index))\n",
    "# df.to_csv(\"movie_data.csv\", index=False, encoding='utf-8')"
   ]
  },
  {
   "cell_type": "code",
   "execution_count": 1,
   "metadata": {},
   "outputs": [
    {
     "name": "stdout",
     "output_type": "stream",
     "text": [
      "(50000, 2)\n"
     ]
    },
    {
     "data": {
      "text/html": [
       "<div>\n",
       "<style scoped>\n",
       "    .dataframe tbody tr th:only-of-type {\n",
       "        vertical-align: middle;\n",
       "    }\n",
       "\n",
       "    .dataframe tbody tr th {\n",
       "        vertical-align: top;\n",
       "    }\n",
       "\n",
       "    .dataframe thead th {\n",
       "        text-align: right;\n",
       "    }\n",
       "</style>\n",
       "<table border=\"1\" class=\"dataframe\">\n",
       "  <thead>\n",
       "    <tr style=\"text-align: right;\">\n",
       "      <th></th>\n",
       "      <th>review</th>\n",
       "      <th>sentiment</th>\n",
       "    </tr>\n",
       "  </thead>\n",
       "  <tbody>\n",
       "    <tr>\n",
       "      <th>49995</th>\n",
       "      <td>Towards the end of the movie, I felt it was to...</td>\n",
       "      <td>0</td>\n",
       "    </tr>\n",
       "    <tr>\n",
       "      <th>49996</th>\n",
       "      <td>This is the kind of movie that my enemies cont...</td>\n",
       "      <td>0</td>\n",
       "    </tr>\n",
       "    <tr>\n",
       "      <th>49997</th>\n",
       "      <td>I saw 'Descent' last night at the Stockholm Fi...</td>\n",
       "      <td>0</td>\n",
       "    </tr>\n",
       "    <tr>\n",
       "      <th>49998</th>\n",
       "      <td>Some films that you pick up for a pound turn o...</td>\n",
       "      <td>0</td>\n",
       "    </tr>\n",
       "    <tr>\n",
       "      <th>49999</th>\n",
       "      <td>This is one of the dumbest films, I've ever se...</td>\n",
       "      <td>0</td>\n",
       "    </tr>\n",
       "  </tbody>\n",
       "</table>\n",
       "</div>"
      ],
      "text/plain": [
       "                                                  review  sentiment\n",
       "49995  Towards the end of the movie, I felt it was to...          0\n",
       "49996  This is the kind of movie that my enemies cont...          0\n",
       "49997  I saw 'Descent' last night at the Stockholm Fi...          0\n",
       "49998  Some films that you pick up for a pound turn o...          0\n",
       "49999  This is one of the dumbest films, I've ever se...          0"
      ]
     },
     "execution_count": 1,
     "metadata": {},
     "output_type": "execute_result"
    }
   ],
   "source": [
    "df = pd.read_csv('movie_data.csv', encoding='utf-8')\n",
    "print(df.shape)\n",
    "df.tail()"
   ]
  },
  {
   "cell_type": "markdown",
   "metadata": {},
   "source": [
    "---"
   ]
  },
  {
   "cell_type": "markdown",
   "metadata": {},
   "source": [
    "## Preprocessing"
   ]
  },
  {
   "cell_type": "markdown",
   "metadata": {},
   "source": [
    "- Python 정규표현식을 사용하여 HTML markup 문자 제거\n",
    "- Sentiment Analysis에 도움이 될 이모티콘은 문장 마지막에 따로 추가\n",
    "- 문자를 모두 소문자로 바꾸고 특수문자들 제거"
   ]
  },
  {
   "cell_type": "code",
   "execution_count": 2,
   "metadata": {},
   "outputs": [
    {
     "data": {
      "text/plain": [
       "\"an this, and that wasn't even so good.<br /><br />\""
      ]
     },
     "execution_count": 2,
     "metadata": {},
     "output_type": "execute_result"
    }
   ],
   "source": [
    "df.loc[41556, 'review'][-50:]"
   ]
  },
  {
   "cell_type": "code",
   "execution_count": 3,
   "metadata": {},
   "outputs": [],
   "source": [
    "import re"
   ]
  },
  {
   "cell_type": "code",
   "execution_count": 4,
   "metadata": {},
   "outputs": [],
   "source": [
    "def preprocessor(text):\n",
    "    text = re.sub('<[^>]*>', '', text)\n",
    "    emoticons = re.findall('(?::|;|=)(?:-)?(?:\\)|\\(|D|P)',\n",
    "                           text)\n",
    "#     print(emoticons)\n",
    "    text = (re.sub('[\\W]+', ' ', text.lower()) + \n",
    "                  ' '.join(emoticons).replace('-', '')) # 이모티콘에서 \":-)\" 중 '-' 제외\n",
    "    return text"
   ]
  },
  {
   "cell_type": "code",
   "execution_count": 5,
   "metadata": {},
   "outputs": [
    {
     "data": {
      "text/plain": [
       "'this is a test :) :( :)'"
      ]
     },
     "execution_count": 5,
     "metadata": {},
     "output_type": "execute_result"
    }
   ],
   "source": [
    "# Test\n",
    "preprocessor(\"</a>This :) is :( a test :-)!\")"
   ]
  },
  {
   "cell_type": "code",
   "execution_count": 6,
   "metadata": {},
   "outputs": [],
   "source": [
    "df['review'] = df['review'].apply(preprocessor)"
   ]
  },
  {
   "cell_type": "markdown",
   "metadata": {},
   "source": [
    "## EDA\n",
    "- EDA 과정의 일환으로 Scikit-learn에 구현된 `LatentDirichletAllocation` 클래스를 사용하여 영화 리뷰를 여러 개의 topic으로 분류하는 작업을 해보도록 하겠습니다."
   ]
  },
  {
   "cell_type": "code",
   "execution_count": 8,
   "metadata": {},
   "outputs": [],
   "source": [
    "from sklearn.feature_extraction.text import CountVectorizer\n",
    "from nltk.corpus import stopwords"
   ]
  },
  {
   "cell_type": "markdown",
   "metadata": {},
   "source": [
    "단어의 최대 빈도를 10%로 설정해서 너무 자주 등장하는 단어는 제외했습니다. 모든 문서에 걸쳐 자주 등장하는 단어는 topic 카테고리와 관련성이 적을 수 있다고 생각했습니다. 그리고 데이터셋의 차원을 조절하기 위해서 5,000개로 단어의 수를 제한했습니다."
   ]
  },
  {
   "cell_type": "code",
   "execution_count": 36,
   "metadata": {},
   "outputs": [],
   "source": [
    "stop = stopwords.words('english')\n",
    "count = CountVectorizer(stop_words=stop,\n",
    "                        max_df=0.1,\n",
    "                        max_features=4000)\n",
    "\n",
    "X = count.fit_transform(df['review'].values)"
   ]
  },
  {
   "cell_type": "code",
   "execution_count": 37,
   "metadata": {},
   "outputs": [],
   "source": [
    "from sklearn.decomposition import LatentDirichletAllocation"
   ]
  },
  {
   "cell_type": "code",
   "execution_count": 38,
   "metadata": {},
   "outputs": [
    {
     "name": "stdout",
     "output_type": "stream",
     "text": [
      "CPU times: user 4min 39s, sys: 301 ms, total: 4min 39s\n",
      "Wall time: 4min 39s\n"
     ]
    }
   ],
   "source": [
    "%%time\n",
    "lda = LatentDirichletAllocation(n_components=10,\n",
    "                                random_state=41,\n",
    "                                learning_method='batch')\n",
    "topics = lda.fit_transform(X)"
   ]
  },
  {
   "cell_type": "code",
   "execution_count": 39,
   "metadata": {},
   "outputs": [
    {
     "data": {
      "text/plain": [
       "(50000, 10)"
      ]
     },
     "execution_count": 39,
     "metadata": {},
     "output_type": "execute_result"
    }
   ],
   "source": [
    "topics.shape"
   ]
  },
  {
   "cell_type": "code",
   "execution_count": 40,
   "metadata": {},
   "outputs": [
    {
     "name": "stdout",
     "output_type": "stream",
     "text": [
      "토픽 1\n",
      "action fight shot car guy guys\n",
      "토픽 2\n",
      "game video horror zombie dead house\n",
      "토픽 3\n",
      "john role plays played james performance\n",
      "토픽 4\n",
      "horror killer blood gore ending girl\n",
      "토픽 5\n",
      "series war book episode tv read\n",
      "토픽 6\n",
      "music comedy fun wonderful song songs\n",
      "토픽 7\n",
      "family father mother woman wife son\n",
      "토픽 8\n",
      "worst script original budget effects awful\n",
      "토픽 9\n",
      "cinema art audience human beautiful style\n",
      "토픽 10\n",
      "guy comedy kids stupid laugh jokes\n"
     ]
    }
   ],
   "source": [
    "n_top_words = 6\n",
    "feature_names = count.get_feature_names()\n",
    "for topic_idx, topic in enumerate(lda.components_):\n",
    "    print(\"토픽 {}\".format(topic_idx + 1))\n",
    "    print(\" \".join([feature_names[i]\n",
    "                    for i in topic.argsort()[:-n_top_words - 1:-1]]))"
   ]
  },
  {
   "cell_type": "code",
   "execution_count": 41,
   "metadata": {},
   "outputs": [
    {
     "name": "stdout",
     "output_type": "stream",
     "text": [
      "\n",
      "영화 #1:\n",
      "had i been familiar with the stage production of guys and dolls before seeing the movie i might not be as fond of it as i am although in all fairness i would probably still like the film production better because of my general adoration of both brando for his acting and sinatra for his voice although he is quite the actor as well see the manchurian candidate or from here to eternity as for some of the other reviewers statements about the songs i have the broadway soundtrack and though isabel bin ...\n",
      "\n",
      "영화 #2:\n",
      "a give this movie a 10 10 because it deserves a 10 10 two of the best actors of their time walter matthau george burns collaborate with neil simon and all of the other actors that are in this film director herbert ross and all of that makes this stage adaption come true the sunshine boys is one of the best films of the 70 s i love the type of humor in this film it just makes me laugh so hard i got this movie on vhs 3 days ago yes vhs because it was cheaper only 3 i watched it as soon as i got ho ...\n",
      "\n",
      "영화 #3:\n",
      "first of all i have watched this show since i was a little toddler and i have always loved it sure maybe i didn t understand it when i was that young but i still enjoyed it and now that i have been able to understand it for several years i love it even more the score of this musical is the most wonderfully detailed score i have ever heard every note is perfect i don t even need to hear the singing to enjoy it moving on to this particular production this is magnificent of course no one could play ...\n",
      "\n",
      "영화 #4:\n",
      "this is one of the finest music concerts anyone will ever see and hear i grew up when all my lovin was brand new and to hear it again today by the original artist today is a measure of sir p mc s power to spellbind any crowd of any age this doco goes way behind the scenes to show us life on the road not just for the band but everyone down to the roadies i saw this guy live in aussie 1975 and can assure you his performance here on this dvd is no less than he gave almost 30 years ago i have a huge ...\n",
      "\n",
      "영화 #5:\n",
      "joseph l mankiewicz is not remembered by most today as one of the finest directors in hollywood history but this film proves that he is already a success by doing sophisticated american dramas such as a letter to three wives and all about eve as well as successfully adapting shakespeare to life in julius caesar mankiewicz does a marvelous job of bringing this hit broadway play to film and does it with style marlon brando is perfect as sky masterson even if he can t sing too well he is the only a ...\n",
      "\n",
      "영화 #6:\n",
      "this timeless summer love story is a classic and will never be dated i can t even count how many times i ve seen dirty dancing this is one movie that i could probably watch every few weeks and still love there is something timeless about this movie i have loved other blockbuster love story movies like pretty woman and when harry met sally i think their up there but there is something about dirty dancing that just makes it absolutely perfect the characters the chemistry between swaze and grey the ...\n",
      "\n",
      "영화 #7:\n",
      "i love this movie my only disappointment was that some of the original songs were changed it s true that frank sinatra does not get a chance to sing as much in this movie but it s also nice that it s not just another frank sinatra movie where it s mostly him doing the singing i actually thought it was better to use marlon brando s own voice as he has the voice that fits and i could not see someone with this great voice pulling off the gangster feel of his voice stubby kaye s sit down you re rock ...\n",
      "\n",
      "영화 #8:\n",
      "i was given the solo summertime in 5th grade for our spring choral concert from that time on a great appreciation for gershwin s music arose in me i love the haunting melodies of this opera by gershwin back when i was in 5th grade around age 10 i got the lp to practice with and also love the soundtrack very much i recommend seeing this movie and if you can get the soundtrack get it you can sometimes find it on ebay an old used lp i have been searching and searching to try to find the soundtrack  ...\n",
      "\n",
      "영화 #9:\n",
      "a recent viewing of that s entertainment has given me the urge to watch many of the classic mgm musicals from the forties and fifties anchors aweigh is certainly a lesser film than on the town the songs aren t as good nor is the chemistry between the characters but the film beautifully interweaves classical favorites such as tchaikovsky and the scene at the hollywood bowl with sinatra and kelly emerging from the woods above it at the top and then running down the steps while dozens of pianists p ...\n",
      "\n",
      "영화 #10:\n",
      "gene kelly frank sinatra kathryn grayson and jose iturbi star in anchors aweigh directed by george sidney kelly and sinatra are joe and clarence two navy guys on leave in hollywood they meet a little boy dean stockwell and on taking him home they meet his aunt grayson clarence falls for her she wants an audition for jose iturbi they try to help but there s a mix up this is a very energetic musical with great dancing and singing by kelly and sinatra kelly gets to dance with jerry the mouse in a d ...\n"
     ]
    }
   ],
   "source": [
    "movie = topics[:, 5].argsort()[::-1]\n",
    "for iter_idx, moive_idx in enumerate(movie[:10]):\n",
    "    print(\"\\n영화 #{}:\".format(iter_idx + 1))\n",
    "    print(df['review'][moive_idx][:500], '...')"
   ]
  },
  {
   "cell_type": "markdown",
   "metadata": {},
   "source": [
    "---"
   ]
  },
  {
   "cell_type": "markdown",
   "metadata": {},
   "source": [
    "## Model training"
   ]
  },
  {
   "cell_type": "code",
   "execution_count": null,
   "metadata": {},
   "outputs": [],
   "source": [
    "from nltk.stem.porter import PorterStemmer\n",
    "from sklearn.feature_extraction.text import TfidfVectorizer\n",
    "from sklearn.model_selection import GridSearchCV\n",
    "from sklearn.pipeline import Pipeline\n",
    "from sklearn.linear_model import LogisticRegression\n",
    "from sklearn.model_selection import train_test_split"
   ]
  },
  {
   "cell_type": "code",
   "execution_count": null,
   "metadata": {},
   "outputs": [],
   "source": [
    "X_train, X_test, y_train, y_test = train_test_split(df.review, df.sentiment,\n",
    "                                                    test_size=0.33)"
   ]
  },
  {
   "cell_type": "code",
   "execution_count": null,
   "metadata": {},
   "outputs": [],
   "source": [
    "def tokenizer(text): \n",
    "    return text.split()\n",
    "porter = PorterStemmer()\n",
    "def tokenizer_porter(text):\n",
    "    return [porter.stem(word) for word in text.split()]\n",
    "tfidf = TfidfVectorizer(lowercase=False)"
   ]
  },
  {
   "cell_type": "code",
   "execution_count": null,
   "metadata": {},
   "outputs": [],
   "source": [
    "param_gird = [\n",
    "              {'vect__ngram_range': [(1, 2)],\n",
    "               'vect__stop_words': [stop, None],\n",
    "               'vect__tokenizer': [tokenizer, tokenizer_porter],\n",
    "               'clf__penalty': ['l1', 'l2'],\n",
    "               'clf__C': [1.0, 10.0, 100.0]},\n",
    "              {'vect__ngram_range': [(1, 2)],\n",
    "               'vect__stop_words': [stop, None],\n",
    "               'vect__tokenizer': [tokenizer, tokenizer_porter],\n",
    "               'vect__use_idf': [False],\n",
    "               'vect__norm': [None],\n",
    "               'clf__penalty': ['l1', 'l2'],\n",
    "               'clf__C': [1.0, 10.0, 100.0]}\n",
    "             ]\n",
    "\n",
    "lr_tfidf = Pipeline([('vect', tfidf),\n",
    "                     ('clf', LogisticRegression(solver='liblinear', random_state=0))])"
   ]
  },
  {
   "cell_type": "code",
   "execution_count": null,
   "metadata": {},
   "outputs": [],
   "source": [
    "gs_lr_tfidf = GridSearchCV(lr_tfidf, param_gird,\n",
    "                           scoring='accuracy',\n",
    "                           cv=5, verbose=1)"
   ]
  },
  {
   "cell_type": "code",
   "execution_count": null,
   "metadata": {},
   "outputs": [],
   "source": [
    "%%time\n",
    "gs_lr_tfidf.fit(X_train, y_train)"
   ]
  },
  {
   "cell_type": "code",
   "execution_count": null,
   "metadata": {},
   "outputs": [],
   "source": [
    "from sklearn.externals import joblib\n",
    "joblib.dump(gs_lr_tfidf, 'gs_lr_tfidf.pkl')"
   ]
  },
  {
   "cell_type": "code",
   "execution_count": null,
   "metadata": {},
   "outputs": [],
   "source": []
  }
 ],
 "metadata": {
  "kernelspec": {
   "display_name": "Python 3",
   "language": "python",
   "name": "python3"
  },
  "language_info": {
   "codemirror_mode": {
    "name": "ipython",
    "version": 3
   },
   "file_extension": ".py",
   "mimetype": "text/x-python",
   "name": "python",
   "nbconvert_exporter": "python",
   "pygments_lexer": "ipython3",
   "version": "3.7.2"
  }
 },
 "nbformat": 4,
 "nbformat_minor": 2
}
